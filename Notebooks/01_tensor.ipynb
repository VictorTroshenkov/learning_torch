{
 "cells": [
  {
   "cell_type": "markdown",
   "metadata": {
    "id": "_gE94V3G1RCx"
   },
   "source": [
    "# 01. Знакомство с `torch.Tensor`\n",
    "\n",
    "V 0.1 04.02.2021"
   ]
  },
  {
   "cell_type": "markdown",
   "metadata": {
    "id": "TlWOXn0f1RC7"
   },
   "source": [
    "---"
   ]
  },
  {
   "cell_type": "markdown",
   "metadata": {
    "id": "lZfJ1FRM1RC8"
   },
   "source": [
    "При решении данных задач не подразумевается использования циклов или генераторов Python, если в задании не сказано обратного. Решение должно опираться на использование функционала библиотеки `torch`.\n",
    "\n",
    "[PyTorch documentation](https://pytorch.org/docs/stable/#pytorch-documentation)"
   ]
  },
  {
   "cell_type": "code",
   "execution_count": 792,
   "metadata": {
    "id": "b3AW8rF-1RC9"
   },
   "outputs": [],
   "source": [
    "import torch\n",
    "import numpy as np\n",
    "import math"
   ]
  },
  {
   "cell_type": "markdown",
   "metadata": {
    "id": "vow49PuE1RC9"
   },
   "source": [
    "## 1.1 Создание тензоров и выполнение базовых операций над ними\n",
    "\n",
    "[Документация по функциям для создания тензоров](https://pytorch.org/docs/stable/torch.html#creation-ops)\n",
    "\n",
    "[Документация по функциям для работы с индексами](https://pytorch.org/docs/stable/torch.html#indexing-slicing-joining-mutating-ops)"
   ]
  },
  {
   "cell_type": "markdown",
   "metadata": {
    "id": "wBIwO1SB1RC-"
   },
   "source": [
    "1.1.1 Создайте двумерный тензор размера (8, 8). Используя как можно меньше операций, добейтесь расстановки кодов \"шахматных фигур\".\n",
    "\n",
    "Ожидаемый результат:\n",
    "\n",
    "```\n",
    "[[-4., -3., -2., -6., -5., -2., -3., -4.],\n",
    " [-1., -1., -1., -1., -1., -1., -1., -1.],\n",
    " [0., 0., 0., 0., 0., 0., 0., 0.],\n",
    " [0., 0., 0., 0., 0., 0., 0., 0.],\n",
    " [0., 0., 0., 0., 0., 0., 0., 0.],\n",
    " [0., 0., 0., 0., 0., 0., 0., 0.],\n",
    " [1., 1., 1., 1., 1., 1., 1., 1.],\n",
    " [4., 3., 2., 6., 5., 2., 3., 4.]]\n",
    "```"
   ]
  },
  {
   "cell_type": "code",
   "execution_count": 64,
   "metadata": {},
   "outputs": [
    {
     "data": {
      "text/plain": [
       "tensor([[-4., -3., -2., -6., -5., -2., -3., -4.],\n",
       "        [-1., -1., -1., -1., -1., -1., -1., -1.],\n",
       "        [ 0.,  0.,  0.,  0.,  0.,  0.,  0.,  0.],\n",
       "        [ 0.,  0.,  0.,  0.,  0.,  0.,  0.,  0.],\n",
       "        [ 0.,  0.,  0.,  0.,  0.,  0.,  0.,  0.],\n",
       "        [ 0.,  0.,  0.,  0.,  0.,  0.,  0.,  0.],\n",
       "        [ 1.,  1.,  1.,  1.,  1.,  1.,  1.,  1.],\n",
       "        [ 4.,  3.,  2.,  6.,  5.,  2.,  3.,  4.]])"
      ]
     },
     "execution_count": 64,
     "metadata": {},
     "output_type": "execute_result"
    }
   ],
   "source": [
    "#Я пытался сделать через cat/concat, c генерацией нулей размером 4,8 но cat работать не захотел\n",
    "high_rankes = torch.tensor([4., 3., 2., 6., 5., 2., 3., 4.])\n",
    "ones = torch.ones(8)\n",
    "zeros = torch.zeros(8)\n",
    "torch.stack((-high_rankes, -ones, zeros, zeros, zeros, zeros, ones, high_rankes), 0)"
   ]
  },
  {
   "cell_type": "markdown",
   "metadata": {
    "id": "20x5RE1V1RC_"
   },
   "source": [
    "1.1.2 Средствами `torch` рассчитать произведения четных чисел от 2 до 20 на ближайшие к ним бОльшие нечетные числа."
   ]
  },
  {
   "cell_type": "code",
   "execution_count": 68,
   "metadata": {},
   "outputs": [
    {
     "data": {
      "text/plain": [
       "tensor([  6,  20,  42,  72, 110, 156, 210, 272, 342, 420])"
      ]
     },
     "execution_count": 68,
     "metadata": {},
     "output_type": "execute_result"
    }
   ],
   "source": [
    "torch.arange(2, 22, 2) * torch.arange(3, 23, 2)"
   ]
  },
  {
   "cell_type": "markdown",
   "metadata": {
    "id": "N_-t5GRM1RC_"
   },
   "source": [
    "1.1.3 Создать тензор размера 11x7 вида: [[1, 2, 3, ..., 7], [11, 12, 13, ..., 17], [21, 22, 23, ..., 27], ..., [101, 102, 103, ..., 107]]"
   ]
  },
  {
   "cell_type": "code",
   "execution_count": 225,
   "metadata": {},
   "outputs": [
    {
     "data": {
      "text/plain": [
       "tensor([[  1,   2,   3,   4,   5,   6,   7],\n",
       "        [ 11,  12,  13,  14,  15,  16,  17],\n",
       "        [ 21,  22,  23,  24,  25,  26,  27],\n",
       "        [ 31,  32,  33,  34,  35,  36,  37],\n",
       "        [ 41,  42,  43,  44,  45,  46,  47],\n",
       "        [ 51,  52,  53,  54,  55,  56,  57],\n",
       "        [ 61,  62,  63,  64,  65,  66,  67],\n",
       "        [ 71,  72,  73,  74,  75,  76,  77],\n",
       "        [ 81,  82,  83,  84,  85,  86,  87],\n",
       "        [ 91,  92,  93,  94,  95,  96,  97],\n",
       "        [101, 102, 103, 104, 105, 106, 107]])"
      ]
     },
     "execution_count": 225,
     "metadata": {},
     "output_type": "execute_result"
    }
   ],
   "source": [
    "torch.arange(1, 111, 1).reshape(11, 10)[:, :7]"
   ]
  },
  {
   "cell_type": "markdown",
   "metadata": {
    "id": "oxVeUiHR1RC_"
   },
   "source": [
    "1.1.4 Написать функцию, которая для целых значений `n` и `m` будет возвращать тензор размера `n`x`m`, заполненный текстурой размера 2x2, состоящей из следующих значений:\n",
    "\n",
    "```\n",
    "0 1\n",
    "\n",
    "2 3\n",
    "\n",
    "```\n",
    "\n",
    "Пример для n = 4 и m = 5:\n",
    "\n",
    "```\n",
    "0 1 0 1 0\n",
    "\n",
    "2 3 2 3 2\n",
    "\n",
    "0 1 0 1 0\n",
    "\n",
    "2 3 2 3 2\n",
    "```"
   ]
  },
  {
   "cell_type": "code",
   "execution_count": 157,
   "metadata": {},
   "outputs": [
    {
     "data": {
      "text/plain": [
       "tensor([[0, 1, 0, 1, 0],\n",
       "        [2, 3, 2, 3, 2],\n",
       "        [0, 1, 0, 1, 0],\n",
       "        [2, 3, 2, 3, 2]])"
      ]
     },
     "execution_count": 157,
     "metadata": {},
     "output_type": "execute_result"
    }
   ],
   "source": [
    "def make_texture(n: int, m: int) -> torch.LongTensor:\n",
    "    return torch.tensor([[0, 1],[2, 3]]).tile(round(n / 2 + 1),round(m / 2 + 1))[ : n, : m]\n",
    "\n",
    "make_texture(4, 5)  "
   ]
  },
  {
   "cell_type": "markdown",
   "metadata": {
    "id": "WH9hxJse1RDA"
   },
   "source": [
    "1.1.5 Сгенерировать двумерный тензор `t` размерности (4, 7), состоящий из случайных действительных чисел, равномерно распределенных в дипазоне от 0 до 20. Нормализовать значения массива с помощью преобразования вида $ax+b$ так, что после нормализации максимальный элемент масива будет равен 1.0, минимальный 0.0"
   ]
  },
  {
   "cell_type": "code",
   "execution_count": 8,
   "metadata": {},
   "outputs": [
    {
     "data": {
      "text/plain": [
       "tensor([[0.3974, 0.9777, 0.4236, 0.5684, 0.9566, 0.0672, 0.4254],\n",
       "        [0.6465, 0.0796, 0.6333, 0.7629, 0.0804, 0.4157, 0.9299],\n",
       "        [0.0619, 0.4911, 0.6061, 1.0000, 0.4029, 0.8861, 0.6457],\n",
       "        [0.8274, 0.0071, 0.0000, 0.8428, 0.7036, 0.3521, 0.2053]])"
      ]
     },
     "execution_count": 8,
     "metadata": {},
     "output_type": "execute_result"
    }
   ],
   "source": []
  },
  {
   "cell_type": "code",
   "execution_count": 179,
   "metadata": {},
   "outputs": [
    {
     "data": {
      "text/plain": [
       "tensor([[0.1500, 0.9000, 0.3000, 0.4000, 0.6500, 0.7500, 0.5500],\n",
       "        [0.4500, 0.6500, 0.8000, 1.0000, 0.4000, 0.1500, 0.2000],\n",
       "        [0.0500, 0.4500, 0.0500, 0.6000, 0.0000, 0.8500, 0.5500],\n",
       "        [0.6500, 0.2500, 0.9000, 0.2500, 0.1500, 0.5500, 0.1000]])"
      ]
     },
     "execution_count": 179,
     "metadata": {},
     "output_type": "execute_result"
    }
   ],
   "source": [
    "torch.randint(0, 21, (4, 7)) * 0.05 \n",
    "#я возможно не правильно понял задачу?\n",
    "#не очень понимаю почему в примере результата такие странные цифры после запятой\n",
    "# ax + b = y; a = 0.05 - т.е. 1/20. смещение b нам тут не нужно поэтому берем его = 0\n"
   ]
  },
  {
   "cell_type": "markdown",
   "metadata": {
    "id": "vPqIeewXB-mM"
   },
   "source": [
    "[Random Sampling](https://pytorch.org/docs/stable/torch.html#random-sampling)\n",
    "\n",
    "[Distributions](https://pytorch.org/docs/stable/distributions.html)"
   ]
  },
  {
   "cell_type": "markdown",
   "metadata": {
    "id": "K_R6cwq11RDE"
   },
   "source": [
    "1.1.6 Задать два двумерных тензора `ar1` и `ar2` размерности (4, 7), состоящих из случайных целых чисел в пределах от 0 до 10. Построить двумерный тензор размерности (4, 7), каждый элемент которого представляет собой максимум из двух значений, находящихся на аналогичной позиции в тензорах `ar1`, `ar2`.\n",
    "\n",
    "[Reductions ops](https://pytorch.org/docs/stable/torch.html#reduction-ops)"
   ]
  },
  {
   "cell_type": "code",
   "execution_count": 182,
   "metadata": {},
   "outputs": [
    {
     "data": {
      "text/plain": [
       "tensor([[ 5,  6,  6,  5, 10,  9,  1],\n",
       "        [10, 10,  4, 10,  6, 10,  9],\n",
       "        [ 1,  8,  4,  8,  6,  5,  9],\n",
       "        [ 5, 10,  7,  4,  8,  4,  9]])"
      ]
     },
     "execution_count": 182,
     "metadata": {},
     "output_type": "execute_result"
    }
   ],
   "source": [
    "ar1 = torch.randint(0, 11, (4, 7))\n",
    "ar2 = torch.randint(0, 11, (4, 7))\n",
    "torch.where(ar1 > ar2, ar1, ar2)"
   ]
  },
  {
   "cell_type": "markdown",
   "metadata": {
    "id": "x6zmMhyKBPWQ"
   },
   "source": [
    "1.1.7 Создать тензор из 20 случайных целых чисел от 0 до 100. Получить второе сверху значение в тензоре. Определить индекс этого значения."
   ]
  },
  {
   "cell_type": "code",
   "execution_count": 221,
   "metadata": {},
   "outputs": [
    {
     "name": "stdout",
     "output_type": "stream",
     "text": [
      "index: 18\n",
      "value: 96\n"
     ]
    }
   ],
   "source": [
    "tensor = torch.randint(0, 101, (1, 20))\n",
    "print('index: ' + str(tensor.argsort()[:, -2:-1].item()))\n",
    "print('value: ' + str(tensor[0, tensor.argsort()[:, -2:-1]].item()))"
   ]
  },
  {
   "cell_type": "markdown",
   "metadata": {
    "id": "Xshsy8fD1RDE"
   },
   "source": [
    "## 1.2 Распространение"
   ]
  },
  {
   "cell_type": "markdown",
   "metadata": {
    "id": "jlP22HAJCo28"
   },
   "source": [
    "[Numpy broadcasting](https://numpy.org/devdocs/user/theory.broadcasting.html)\n",
    "\n",
    "[Torch broadcasting](https://pytorch.org/docs/stable/notes/broadcasting.html)"
   ]
  },
  {
   "cell_type": "markdown",
   "metadata": {
    "id": "uRD6-8Gd1RDF"
   },
   "source": [
    "1.2.1 Создать тензор 11x7 вида: `[[1, 2, 3, ..., 7], [11, 12, 13, ..., 17], [21, 22, 23, ..., 27], ..., [101, 102, 103, ..., 107]]`. При решении задачи применить технику распространения."
   ]
  },
  {
   "cell_type": "code",
   "execution_count": 251,
   "metadata": {},
   "outputs": [
    {
     "data": {
      "text/plain": [
       "tensor([[  1,   2,   3,   4,   5,   6,   7],\n",
       "        [ 11,  12,  13,  14,  15,  16,  17],\n",
       "        [ 21,  22,  23,  24,  25,  26,  27],\n",
       "        [ 31,  32,  33,  34,  35,  36,  37],\n",
       "        [ 41,  42,  43,  44,  45,  46,  47],\n",
       "        [ 51,  52,  53,  54,  55,  56,  57],\n",
       "        [ 61,  62,  63,  64,  65,  66,  67],\n",
       "        [ 71,  72,  73,  74,  75,  76,  77],\n",
       "        [ 81,  82,  83,  84,  85,  86,  87],\n",
       "        [ 91,  92,  93,  94,  95,  96,  97],\n",
       "        [101, 102, 103, 104, 105, 106, 107]])"
      ]
     },
     "execution_count": 251,
     "metadata": {},
     "output_type": "execute_result"
    }
   ],
   "source": [
    "a = torch.arange(1, 8, 1)\n",
    "b = torch.arange(0, 110, 10).reshape(11,1)\n",
    "\n",
    "a + b"
   ]
  },
  {
   "cell_type": "markdown",
   "metadata": {
    "id": "iSY9Iday1RDF"
   },
   "source": [
    "1.2.2 Вычесть одномерный тензор `b_1d` из двухмерного тензора `a_2d`, так, чтобы каждый элемент одномерного тензора вычитался из всех элементов соответствующих строк двумерного тензора.\n",
    "\n",
    "_Пример:_\n",
    "\n",
    "Для входа:\n",
    "```python\n",
    "a_2d = torch.tensor([[3,3,3],[4,4,4],[5,5,5]])\n",
    "b_1d = torch.tensor([1,2,3])\n",
    "```\n",
    "\n",
    "Ожидается резульат:\n",
    "\n",
    "```python\n",
    "[[2 2 2]\n",
    " [2 2 2]\n",
    " [2 2 2]]\n",
    "```"
   ]
  },
  {
   "cell_type": "code",
   "execution_count": 253,
   "metadata": {},
   "outputs": [
    {
     "data": {
      "text/plain": [
       "tensor([[2, 2, 2],\n",
       "        [2, 2, 2],\n",
       "        [2, 2, 2]])"
      ]
     },
     "execution_count": 253,
     "metadata": {},
     "output_type": "execute_result"
    }
   ],
   "source": [
    "a_2d = torch.tensor([[3,3,3],[4,4,4],[5,5,5]])\n",
    "b_1d = torch.tensor([1,2,3]).reshape(3, 1)\n",
    "\n",
    "a_2d - b_1d"
   ]
  },
  {
   "cell_type": "markdown",
   "metadata": {
    "id": "dFTvPsY91RDF"
   },
   "source": [
    "## 1.3 Индексы, маскирование и прихотливое индексирование\n",
    "\n",
    "[Документация по функциям для работы с индексами](https://pytorch.org/docs/stable/torch.html#indexing-slicing-joining-mutating-ops)"
   ]
  },
  {
   "cell_type": "markdown",
   "metadata": {
    "id": "McYtDYhH1RDG"
   },
   "source": [
    "1.3.1 Получить индексы, для которых элементы тензоров `a` и `b` совпадают.\n",
    "\n",
    "_Пример:_\n",
    "\n",
    "Для входа:\n",
    "```python\n",
    "a = torch.tensor([1,2,3,2,3,4,3,4,5,6])\n",
    "b = torch.tensor([7,2,10,2,7,4,9,4,9,8])\n",
    "```\n",
    "\n",
    "Ожидается резульат:\n",
    "\n",
    "```python\n",
    "tensor([1, 3, 5, 7])\n",
    "```"
   ]
  },
  {
   "cell_type": "code",
   "execution_count": 19,
   "metadata": {},
   "outputs": [
    {
     "name": "stdout",
     "output_type": "stream",
     "text": [
      "tensor([0, 1, 0, 1, 0, 1, 0, 1, 0, 0])\n"
     ]
    },
    {
     "data": {
      "text/plain": [
       "tensor([5, 1, 7, 3])"
      ]
     },
     "execution_count": 19,
     "metadata": {},
     "output_type": "execute_result"
    }
   ],
   "source": []
  },
  {
   "cell_type": "code",
   "execution_count": 255,
   "metadata": {},
   "outputs": [
    {
     "data": {
      "text/plain": [
       "(tensor([1, 3, 5, 7]),)"
      ]
     },
     "execution_count": 255,
     "metadata": {},
     "output_type": "execute_result"
    }
   ],
   "source": [
    "a = torch.tensor([1,2,3,2,3,4,3,4,5,6])\n",
    "b = torch.tensor([7,2,10,2,7,4,9,4,9,8])\n",
    "\n",
    "torch.where(a == b) #так можно делать?"
   ]
  },
  {
   "cell_type": "markdown",
   "metadata": {
    "id": "MnBq3nfy1RDG"
   },
   "source": [
    "1.3.2 Инвертировать порядок элементов в двумерном тензоре `torch.arange(9).view(3,3)`.\n",
    "\n",
    "Ожидаемый результат:\n",
    "\n",
    "\n",
    "```python\n",
    "tensor([[8, 7, 6],\n",
    "       [5, 4, 3],\n",
    "       [2, 1, 0]])\n",
    "```"
   ]
  },
  {
   "cell_type": "code",
   "execution_count": 267,
   "metadata": {},
   "outputs": [
    {
     "data": {
      "text/plain": [
       "tensor([[8, 7, 6],\n",
       "        [5, 4, 3],\n",
       "        [2, 1, 0]])"
      ]
     },
     "execution_count": 267,
     "metadata": {},
     "output_type": "execute_result"
    }
   ],
   "source": [
    "torch.arange(9).view(3,3).reshape(1, 9).sort(descending=True).values.reshape(3, 3)"
   ]
  },
  {
   "cell_type": "markdown",
   "metadata": {
    "id": "tANsLnOC1RDH"
   },
   "source": [
    "1.3.3 Из входного тензора a получить только элементы, находящиеся в диапазоне от 5 до 10.\n",
    "\n",
    "_Пример:_\n",
    "\n",
    "Для входа:\n",
    "```python\n",
    "a = torch.tensor([2, 6, 1, 9, 10, 3, 27])\n",
    "```\n",
    "\n",
    "Ожидается результат:\n",
    "\n",
    "```python\n",
    "tensor([6, 9, 10])\n",
    "```"
   ]
  },
  {
   "cell_type": "code",
   "execution_count": 283,
   "metadata": {},
   "outputs": [
    {
     "data": {
      "text/plain": [
       "tensor([ 6,  9, 10])"
      ]
     },
     "execution_count": 283,
     "metadata": {},
     "output_type": "execute_result"
    }
   ],
   "source": [
    "a = torch.tensor([2, 6, 1, 9, 10, 3, 27])\n",
    "a = a.masked_select(a >= 5)\n",
    "a.masked_select(a <= 10)"
   ]
  },
  {
   "cell_type": "markdown",
   "metadata": {
    "id": "3vlK0gV21RDH"
   },
   "source": [
    "1.3.4 Поменять местами столбец 1 и 2 тензора `torch.arange(9).reshape(3,3)`"
   ]
  },
  {
   "cell_type": "code",
   "execution_count": 324,
   "metadata": {},
   "outputs": [
    {
     "data": {
      "text/plain": [
       "tensor([[0, 2, 1],\n",
       "        [3, 5, 4],\n",
       "        [6, 8, 7]])"
      ]
     },
     "execution_count": 324,
     "metadata": {},
     "output_type": "execute_result"
    }
   ],
   "source": [
    "tensor = torch.arange(9).reshape(3,3)\n",
    "\n",
    "splited_tensors = torch.split(tensor, 1, 1)\n",
    "torch.cat((splited_tensors[0], splited_tensors[2], splited_tensors[1]), 1)"
   ]
  },
  {
   "cell_type": "markdown",
   "metadata": {
    "id": "cheFtWhU1RDH"
   },
   "source": [
    "1.3.5 Создать тензор 8 на 10 из случайных целых чисел из диапазона от 0 до 10 и найти в ней строку (ее индекс и вывести саму строку), в которой сумма значений минимальна."
   ]
  },
  {
   "cell_type": "code",
   "execution_count": 351,
   "metadata": {},
   "outputs": [
    {
     "name": "stdout",
     "output_type": "stream",
     "text": [
      "tensor([[ 7,  8, 10,  1,  1,  7,  4,  5,  8,  7],\n",
      "        [10,  2,  1,  2,  9,  6,  8,  9,  2,  6],\n",
      "        [10,  3,  6,  3,  4,  8,  0,  7,  5,  9],\n",
      "        [ 9,  1,  9, 10,  5,  2,  8,  4,  2,  3],\n",
      "        [ 8,  4,  6,  3,  0,  8,  7,  1, 10, 10],\n",
      "        [ 9,  5,  0,  0,  9,  0,  1,  1, 10,  0],\n",
      "        [ 1,  2,  1,  1,  7,  7,  1,  5,  4, 10],\n",
      "        [ 2,  9,  0, 10,  1,  1, 10,  9,  1,  3]])\n",
      "min index: tensor([5])\n",
      "min string: tensor([[ 9,  5,  0,  0,  9,  0,  1,  1, 10,  0]])\n"
     ]
    }
   ],
   "source": [
    "tensor = torch.randint(0, 11, (8, 10))\n",
    "print(tensor)\n",
    "index = torch.cumsum(tensor, 1)[:, -1 :].sort(0)[1][0]\n",
    "print('min index: ' + str(index))\n",
    "print('min string: ' + str(tensor[index]))"
   ]
  },
  {
   "cell_type": "markdown",
   "metadata": {
    "id": "grOCNU4XFE2B"
   },
   "source": [
    "1.3.6 Cоздать тензор из 20 случайных целых чисел от 0 до 100. Обрезать значения тензора (заменить значения, выходящие за диапазон, на крайние значения) снизу по значению 30, сверху по значению 70."
   ]
  },
  {
   "cell_type": "code",
   "execution_count": 363,
   "metadata": {},
   "outputs": [
    {
     "name": "stdout",
     "output_type": "stream",
     "text": [
      "Generated tensor:\n",
      "tensor([[ 11,  50,  65,  45,  63,  34,  48,  53,  25,  69,  87,   1,  57,  29,\n",
      "          16, 100,  84,  13,  94,  22]])\n",
      "Values trimmed tensor:\n",
      "tensor([[30, 50, 65, 45, 63, 34, 48, 53, 30, 69, 70, 30, 57, 30, 30, 70, 70, 30,\n",
      "         70, 30]])\n"
     ]
    }
   ],
   "source": [
    "tensor = torch.randint(0, 101, (1, 20))\n",
    "print('Generated tensor:')\n",
    "print(tensor)\n",
    "tensor = tensor.apply_((lambda x: 70 if(x >= 70) else x))\n",
    "tensor = tensor.apply_((lambda x: 30 if(x <= 30) else x))\n",
    "print('Values trimmed tensor:')\n",
    "print(tensor)"
   ]
  },
  {
   "cell_type": "markdown",
   "metadata": {
    "id": "HNfQjY8P1RDI"
   },
   "source": [
    "1.3.7 Создать два тензора размера 30 на 3 из случайных целых чисел из диапазона от 0 до 10 и найти все значения первого тензора, которые больше соответсвующих (по расположению) значений второго тензора. Подсчитать сумму этих значений."
   ]
  },
  {
   "cell_type": "code",
   "execution_count": 365,
   "metadata": {},
   "outputs": [
    {
     "data": {
      "text/plain": [
       "tensor(285.)"
      ]
     },
     "execution_count": 365,
     "metadata": {},
     "output_type": "execute_result"
    }
   ],
   "source": [
    "tensor_1 = torch.randint(0, 11, (30, 3))\n",
    "tensor_2 = torch.randint(0, 11, (30, 3))\n",
    "\n",
    "torch.where(tensor_1 > tensor_2, tensor_1, torch.zeros(30,3)).sum()"
   ]
  },
  {
   "cell_type": "markdown",
   "metadata": {
    "id": "doBCxYJA1RDI"
   },
   "source": [
    "1.3.8 При помощи прихотливого индексирования для двухмерного массива размерности (20, 20), состоящего из случайных целых чисел в пределах от 0 до 10 получить массив элементов находящихся на диагонали, проходящей над основной диагональю."
   ]
  },
  {
   "cell_type": "code",
   "execution_count": 370,
   "metadata": {},
   "outputs": [
    {
     "data": {
      "text/plain": [
       "tensor([ 3,  3,  6,  7,  8, 10, 10,  6,  5, 10,  0,  5,  8,  0,  9, 10,  5,  2,\n",
       "         6])"
      ]
     },
     "execution_count": 370,
     "metadata": {},
     "output_type": "execute_result"
    }
   ],
   "source": [
    "tensor = torch.randint(0, 11, (20, 20))\n",
    "torch.diagonal(tensor[: , 1: ])"
   ]
  },
  {
   "cell_type": "markdown",
   "metadata": {
    "id": "6M1lkfLp1RDJ"
   },
   "source": [
    "1.3.9 Задать два двухмерных тензора `ar1` и `ar2` размерности (5, 10), состоящих из случайных целых чисел в пределах от 0 до 10. Удвоить все значения `ar1`, которые совпадают со значениями `ar2`, расположенными на аналогичных позициях."
   ]
  },
  {
   "cell_type": "code",
   "execution_count": 374,
   "metadata": {},
   "outputs": [
    {
     "data": {
      "text/plain": [
       "tensor([[ 2, 20, 10,  5,  2,  5,  3,  7,  4,  6],\n",
       "        [ 2,  2,  5,  4,  9,  1, 16, 16, 18,  6],\n",
       "        [ 6,  4,  2,  6,  5,  2,  6,  7,  4,  8],\n",
       "        [ 8, 10,  2,  5,  8, 10,  3,  1,  3,  5],\n",
       "        [ 4,  9,  2,  8,  3,  4,  5, 10,  8,  1]])"
      ]
     },
     "execution_count": 374,
     "metadata": {},
     "output_type": "execute_result"
    }
   ],
   "source": [
    "ar1 = torch.randint(0, 11, (5, 10))\n",
    "ar2 = torch.randint(0, 11, (5, 10))\n",
    "\n",
    "torch.where(ar1 == ar2, ar1*2, ar1)"
   ]
  },
  {
   "cell_type": "markdown",
   "metadata": {
    "id": "Qe2oVr4p1RDJ"
   },
   "source": [
    "1.3.10 Заданы три двухмерных тензора `ar1`, `ar2` и `ar3` размерности (4, 7), состоящие из случайных целых чисел в пределах от 0 до 10. Обнулить все элементы `ar1`, которые больше соответствующих (находящихся в соответствующих позициях) элементов `ar2` и меньше соответствующих элементов `ar3`."
   ]
  },
  {
   "cell_type": "code",
   "execution_count": 389,
   "metadata": {
    "scrolled": true
   },
   "outputs": [
    {
     "data": {
      "text/plain": [
       "tensor([[ 1., 10.,  3.,  6.,  0.,  1.,  0.],\n",
       "        [ 7.,  6.,  7.,  0.,  7.,  7.,  9.],\n",
       "        [ 0.,  0.,  0.,  0.,  6.,  0.,  5.],\n",
       "        [ 9.,  7.,  0.,  7.,  4.,  7., 10.]])"
      ]
     },
     "execution_count": 389,
     "metadata": {},
     "output_type": "execute_result"
    }
   ],
   "source": [
    "ar1 = torch.randint(0, 11, (4, 7))\n",
    "ar2 = torch.randint(0, 11, (4, 7))\n",
    "ar3 = torch.randint(0, 11, (4, 7))\n",
    "\n",
    "torch.where((ar1 - ar2) * (ar3 - ar1) > 0, torch.zeros(4,7), ar1)"
   ]
  },
  {
   "cell_type": "markdown",
   "metadata": {
    "id": "BTcRVeYh1RDK"
   },
   "source": [
    "1.3.11 Задан двумерный тензор `ar1` размерности (20, 5), состоящий из случайных целых чисел в пределах от 0 до 20. Определить, в каких столбцах не менее 5 раз встречается значение, максимальное по своей строке."
   ]
  },
  {
   "cell_type": "code",
   "execution_count": 491,
   "metadata": {},
   "outputs": [
    {
     "name": "stdout",
     "output_type": "stream",
     "text": [
      "tensor([[ 8,  4, 13, 15,  9],\n",
      "        [ 0, 11, 11,  1, 20],\n",
      "        [ 9, 10,  3, 18,  6],\n",
      "        [10,  7,  2, 12,  3],\n",
      "        [11,  0,  4, 10, 18],\n",
      "        [ 8, 15, 12,  7, 10],\n",
      "        [20, 11, 13, 17,  8],\n",
      "        [16,  9, 10,  8, 16],\n",
      "        [15,  9, 17, 12, 15],\n",
      "        [18,  2, 19, 17, 11],\n",
      "        [13,  5, 19, 16, 10],\n",
      "        [ 8, 12, 13,  2, 12],\n",
      "        [10, 15,  2, 17, 10],\n",
      "        [16, 17, 10, 17, 14],\n",
      "        [ 9, 19, 15, 13,  7],\n",
      "        [ 0, 17, 19, 10,  4],\n",
      "        [14,  6,  5, 13, 11],\n",
      "        [ 5, 11,  7,  4, 13],\n",
      "        [20, 19,  0, 10, 16],\n",
      "        [ 5, 15, 12,  9,  8]])\n",
      "tensor([[ 0.,  0.,  0., 15.,  0.],\n",
      "        [ 0.,  0.,  0.,  0., 20.],\n",
      "        [ 0.,  0.,  0., 18.,  0.],\n",
      "        [ 0.,  0.,  0., 12.,  0.],\n",
      "        [ 0.,  0.,  0.,  0., 18.],\n",
      "        [ 0., 15.,  0.,  0.,  0.],\n",
      "        [20.,  0.,  0.,  0.,  0.],\n",
      "        [16.,  0.,  0.,  0., 16.],\n",
      "        [ 0.,  0., 17.,  0.,  0.],\n",
      "        [ 0.,  0., 19.,  0.,  0.],\n",
      "        [ 0.,  0., 19.,  0.,  0.],\n",
      "        [ 0.,  0., 13.,  0.,  0.],\n",
      "        [ 0.,  0.,  0., 17.,  0.],\n",
      "        [ 0., 17.,  0., 17.,  0.],\n",
      "        [ 0., 19.,  0.,  0.,  0.],\n",
      "        [ 0.,  0., 19.,  0.,  0.],\n",
      "        [14.,  0.,  0.,  0.,  0.],\n",
      "        [ 0.,  0.,  0.,  0., 13.],\n",
      "        [20.,  0.,  0.,  0.,  0.],\n",
      "        [ 0., 15.,  0.,  0.,  0.]])\n"
     ]
    },
    {
     "data": {
      "text/plain": [
       "(tensor([[ 0.,  0.,  0.,  0., 13.],\n",
       "         [ 0.,  0.,  0.,  0., 18.],\n",
       "         [ 0.,  0.,  0.,  0., 20.],\n",
       "         [ 0.,  0.,  0., 12.,  0.],\n",
       "         [ 0.,  0.,  0., 15.,  0.],\n",
       "         [ 0.,  0.,  0., 17.,  0.],\n",
       "         [ 0.,  0.,  0., 18.,  0.],\n",
       "         [ 0.,  0., 13.,  0.,  0.],\n",
       "         [ 0.,  0., 17.,  0.,  0.],\n",
       "         [ 0.,  0., 19.,  0.,  0.],\n",
       "         [ 0., 15.,  0.,  0.,  0.],\n",
       "         [ 0., 17.,  0., 17.,  0.],\n",
       "         [ 0., 19.,  0.,  0.,  0.],\n",
       "         [14.,  0.,  0.,  0.,  0.],\n",
       "         [16.,  0.,  0.,  0., 16.],\n",
       "         [20.,  0.,  0.,  0.,  0.]]),\n",
       " tensor([1, 1, 1, 1, 1, 1, 1, 1, 1, 3, 2, 1, 1, 1, 1, 2]))"
      ]
     },
     "execution_count": 491,
     "metadata": {},
     "output_type": "execute_result"
    }
   ],
   "source": [
    "###########\n",
    "# Не получилось\n",
    "###########\n",
    "tensor = torch.randint(0, 21, (20, 5))\n",
    "\n",
    "print(tensor)\n",
    "\n",
    "max_row_values = torch.sort(tensor)[0][ :, -1: ]\n",
    "\n",
    "result = torch.where(tensor == max_row_values, tensor, torch.zeros(20, 5))\n",
    "print(result)\n",
    "result.unique(return_counts=True, dim = 0)\n",
    "\n",
    "\n",
    "\n",
    "#print(torch.where(tensor[-1:] == tensor[: 1]))\n",
    "#print(tensor)\n",
    "#print(tensor[-1:])\n",
    "#print(tensor[: 1])\n"
   ]
  },
  {
   "cell_type": "markdown",
   "metadata": {
    "id": "ZeYlNWNE1RDK"
   },
   "source": [
    "1.3.12 Задан двумерный тензор `ar1` размерности (4, 7), состоящий из случайных  чисел в пределах от 0 до 1. Обнулить все значения в массиве, расположенные строго правее и ниже максимального элемента массива. "
   ]
  },
  {
   "cell_type": "code",
   "execution_count": 744,
   "metadata": {},
   "outputs": [
    {
     "data": {
      "text/plain": [
       "tensor([[0.4336, 0.3529, 0.2647, 0.9019, 0.3721, 0.2706, 0.2600],\n",
       "        [0.8338, 0.3960, 0.1362, 0.7910, 0.7072, 0.0864, 0.0872],\n",
       "        [0.8703, 0.2833, 0.9879, 0.0000, 0.0000, 0.0000, 0.0000],\n",
       "        [0.7981, 0.1741, 0.7365, 0.0000, 0.0000, 0.0000, 0.0000]])"
      ]
     },
     "execution_count": 744,
     "metadata": {},
     "output_type": "execute_result"
    }
   ],
   "source": [
    "ar1 = torch.rand((4, 7))\n",
    "max_element_index_1d = int(ar1.argmax()) + 1\n",
    "y = math.floor(max_element_index_1d/7)\n",
    "x = max_element_index_1d - (y) * 7\n",
    "zeros = torch.zeros((int(4 - y), int(7 - x)))\n",
    "ar1[y: , x: ] = zeros\n",
    "\n",
    "ar1"
   ]
  },
  {
   "cell_type": "markdown",
   "metadata": {
    "id": "pYxX90B11RDL"
   },
   "source": [
    "1.3.13 Построить \"one-hot encoding\" для одномерного тензора, содержащего целые числа (длина вектора заранее неизвестна, набор значений заранее неизвестен, при этом в итоговой матрице должны присутствовать столбцы для всех натуральных чисел вплоть до максимального встречающегося в исходном массиве).\n",
    "\n",
    "Пример:\n",
    "\n",
    "для тензора `torch.tensor([2, 3, 2, 2, 2, 1])`.\n",
    "\n",
    "Ожидается результат:\n",
    "\n",
    "```python\n",
    "tensor([[0., 1., 0.],\n",
    "        [0., 0., 1.],\n",
    "        [0., 1., 0.],\n",
    "        [0., 1., 0.],\n",
    "        [0., 1., 0.],\n",
    "        [1., 0., 0.]])\n",
    "```"
   ]
  },
  {
   "cell_type": "code",
   "execution_count": 864,
   "metadata": {},
   "outputs": [
    {
     "data": {
      "text/plain": [
       "tensor([[0., 1., 0.],\n",
       "        [0., 0., 1.],\n",
       "        [0., 1., 0.],\n",
       "        [0., 1., 0.],\n",
       "        [0., 1., 0.],\n",
       "        [1., 0., 0.]])"
      ]
     },
     "execution_count": 864,
     "metadata": {},
     "output_type": "execute_result"
    }
   ],
   "source": [
    "ar1 = torch.tensor([2, 3, 2, 2, 2, 1])\n",
    "\n",
    "x = ar1.max()\n",
    "y = ar1.shape[0]\n",
    "zeros = torch.zeros(y, x)\n",
    "index = torch.cat((torch.arange(0, y).unsqueeze(1), ar1.unsqueeze(1) - 1), 1).type(torch.LongTensor)\n",
    "index = index.chunk(y, dim = 1)\n",
    "\n",
    "zeros[index] = 1\n",
    "zeros"
   ]
  },
  {
   "cell_type": "markdown",
   "metadata": {
    "id": "GYU8DmNTDLN8"
   },
   "source": [
    "1.3.14 Создать тензор `arr` из 20 случайных целых чисел от 0 до 100. Найти самое частое значение в тензоре. \n",
    "Найти индексы в тензоре, соответствующие самому частому значению. Проверить, как работет алгоритм при двух значениях, имеющих наибольшую встречаемость, предложить приемлемое поведение алгоритма для этого случая. "
   ]
  },
  {
   "cell_type": "code",
   "execution_count": 884,
   "metadata": {},
   "outputs": [
    {
     "data": {
      "text/plain": [
       "tensor([[ 1,  1],\n",
       "        [ 2,  1],\n",
       "        [ 3,  2],\n",
       "        [ 7,  1],\n",
       "        [ 8,  1],\n",
       "        [11,  1],\n",
       "        [12,  2],\n",
       "        [13,  2],\n",
       "        [15,  3],\n",
       "        [16,  1],\n",
       "        [17,  3],\n",
       "        [24,  2],\n",
       "        [25,  3],\n",
       "        [27,  1],\n",
       "        [28,  1],\n",
       "        [29,  2],\n",
       "        [30,  2],\n",
       "        [31,  2],\n",
       "        [32,  3],\n",
       "        [36,  2],\n",
       "        [37,  1],\n",
       "        [38,  1],\n",
       "        [39,  1],\n",
       "        [41,  2],\n",
       "        [45,  1],\n",
       "        [47,  1],\n",
       "        [49,  1],\n",
       "        [53,  1],\n",
       "        [54,  5],\n",
       "        [55,  1],\n",
       "        [56,  2],\n",
       "        [59,  2],\n",
       "        [60,  6],\n",
       "        [61,  2],\n",
       "        [62,  1],\n",
       "        [63,  2],\n",
       "        [64,  1],\n",
       "        [66,  1],\n",
       "        [67,  2],\n",
       "        [72,  2],\n",
       "        [73,  1],\n",
       "        [76,  2],\n",
       "        [77,  1],\n",
       "        [78,  1],\n",
       "        [80,  1],\n",
       "        [81,  1],\n",
       "        [83,  2],\n",
       "        [84,  1],\n",
       "        [86,  1],\n",
       "        [87,  1],\n",
       "        [88,  1],\n",
       "        [89,  1],\n",
       "        [90,  2],\n",
       "        [94,  2],\n",
       "        [96,  1],\n",
       "        [97,  4],\n",
       "        [98,  4],\n",
       "        [99,  1]])"
      ]
     },
     "execution_count": 884,
     "metadata": {},
     "output_type": "execute_result"
    }
   ],
   "source": [
    "ar1 = torch.randint(0, 100, (1, 100))\n",
    "counts = ar1.unique(return_counts = True)\n",
    "counts = torch.cat((counts[0].unsqueeze(1), counts[1].unsqueeze(1)), 1)\n",
    "counts"
   ]
  },
  {
   "cell_type": "code",
   "execution_count": 230,
   "metadata": {},
   "outputs": [
    {
     "data": {
      "text/plain": [
       "torch.return_types.mode(\n",
       "values=tensor(30),\n",
       "indices=tensor(15))"
      ]
     },
     "execution_count": 230,
     "metadata": {},
     "output_type": "execute_result"
    }
   ],
   "source": []
  },
  {
   "cell_type": "code",
   "execution_count": 232,
   "metadata": {},
   "outputs": [
    {
     "data": {
      "text/plain": [
       "torch.return_types.mode(\n",
       "values=tensor(1),\n",
       "indices=tensor(1))"
      ]
     },
     "execution_count": 232,
     "metadata": {},
     "output_type": "execute_result"
    }
   ],
   "source": []
  },
  {
   "cell_type": "markdown",
   "metadata": {
    "id": "UenAEfEG1RDN"
   },
   "source": [
    "## 1.4 Математические задачи"
   ]
  },
  {
   "cell_type": "markdown",
   "metadata": {
    "id": "6weDrqJR1RDN"
   },
   "source": [
    "1.4.1 Приблизительно (с погрешностью порядка 1%) рассчитать на какой части интервала от 0 до 10 значение функции x * sin(x) больше 0.5."
   ]
  },
  {
   "cell_type": "code",
   "execution_count": 650,
   "metadata": {},
   "outputs": [
    {
     "data": {
      "text/plain": [
       "tensor([0.2943, 0.3270, 0.3868, 0.3984, 0.4083, 0.4538, 0.5556, 3.0836, 3.1070,\n",
       "        3.1405, 3.1692, 3.1775, 3.4264, 3.5338, 3.7987, 3.8334, 3.9083, 3.9280,\n",
       "        3.9600, 4.0531, 4.2481, 4.2679, 4.3929, 4.4878, 4.5502, 4.6898, 4.8267,\n",
       "        5.0048, 5.1027, 5.1472, 5.1884, 5.2519, 5.3866, 5.3959, 5.4937, 5.6373,\n",
       "        5.6794, 5.7757, 5.7947, 5.9605, 6.0418, 6.1575, 6.3050, 9.3773, 9.3877,\n",
       "        9.4144, 9.5011, 9.6694, 9.6791, 9.7949, 9.8899, 9.9390])"
      ]
     },
     "execution_count": 650,
     "metadata": {},
     "output_type": "execute_result"
    }
   ],
   "source": [
    "tensor = torch.rand((1, 100)) * 10\n",
    "function_tensor = tensor.sin() * tensor\n",
    "\n",
    "torch.where(function_tensor > 0.5, torch.zeros(1,100), tensor).unique()[1:]\n",
    "\n",
    "#по идее дальше нужно найти интервалы внутри полученного ряда и сгруппировать их"
   ]
  },
  {
   "cell_type": "code",
   "execution_count": 239,
   "metadata": {},
   "outputs": [
    {
     "data": {
      "text/plain": [
       "tensor(0.5200)"
      ]
     },
     "execution_count": 239,
     "metadata": {},
     "output_type": "execute_result"
    }
   ],
   "source": []
  },
  {
   "cell_type": "markdown",
   "metadata": {
    "id": "B9xAv8TR1RDN"
   },
   "source": [
    "1.4.2 Найти все простые числа в пределах ста. (Для решения предлагается использовать Решето Эратосфена) Использовать не более 1 цикла (желательно)."
   ]
  },
  {
   "cell_type": "code",
   "execution_count": 707,
   "metadata": {},
   "outputs": [
    {
     "data": {
      "text/plain": [
       "tensor([ 1.,  2.,  3.,  5.,  7., 11., 13., 17., 19., 23., 29., 31., 37., 41.,\n",
       "        43., 47., 53., 59., 61., 67., 71., 73., 79., 83., 89., 97.])"
      ]
     },
     "execution_count": 707,
     "metadata": {},
     "output_type": "execute_result"
    }
   ],
   "source": [
    "tensor = torch.arange(2, 101)\n",
    "i = 2\n",
    "while i < 100:\n",
    "    tensor = torch.where(torch.isin(tensor, tensor * i), torch.zeros(tensor.shape), tensor).unique()\n",
    "    i = i + 1\n",
    "\n",
    "#заменим первый элемент с нуля на 1\n",
    "tensor[0] = 1\n",
    "tensor"
   ]
  },
  {
   "cell_type": "markdown",
   "metadata": {
    "id": "AHupFoTR1RDN"
   },
   "source": [
    "1.4.3 Найти евклидово расстояние между двумя одномерными тензорами одинаковой размерности, не используя готовые решения из библиотек."
   ]
  },
  {
   "cell_type": "code",
   "execution_count": 709,
   "metadata": {},
   "outputs": [
    {
     "data": {
      "text/plain": [
       "tensor(5.)"
      ]
     },
     "execution_count": 709,
     "metadata": {},
     "output_type": "execute_result"
    }
   ],
   "source": [
    "#тут уже было решение, возможно потому что делали похожее на занятии?\n",
    "a = torch.tensor([3, 4])\n",
    "b = torch.tensor([0, 0])\n",
    "\n",
    "def euclid_dist(a, b = None):\n",
    "    if b is None:\n",
    "        b = torch.zeros_like(a)\n",
    "        \n",
    "    return ((a - b) ** 2).sum(dim=-1) ** 0.5\n",
    "\n",
    "euclid_dist(a, b)"
   ]
  },
  {
   "cell_type": "markdown",
   "metadata": {
    "id": "j-ZvjWDKDVMQ"
   },
   "source": [
    "1.4.4 Создать двумерный тензор 20 на 3, содержащий случайные целые числа от 0 до 100. \n",
    "Интерпретируя тензор как 20 векторов из 3х компонент, отсортировать его по длине векторов."
   ]
  },
  {
   "cell_type": "code",
   "execution_count": 719,
   "metadata": {},
   "outputs": [
    {
     "data": {
      "text/plain": [
       "tensor([[  6,  13,  53],\n",
       "        [  8,  41,  27],\n",
       "        [ 33,  39,  11],\n",
       "        [  7,  20,  93],\n",
       "        [ 70,  22,  40],\n",
       "        [ 70,  14,  56],\n",
       "        [ 60,  67,  20],\n",
       "        [ 74,  15,  62],\n",
       "        [ 82,  78,   1],\n",
       "        [ 65,  70,  27],\n",
       "        [ 75,  46,  43],\n",
       "        [ 96,  72,   5],\n",
       "        [ 94,  51,  30],\n",
       "        [ 24,  61,  90],\n",
       "        [ 24,  68,  92],\n",
       "        [ 75,  25,  98],\n",
       "        [100,  15,  98],\n",
       "        [ 99,  25,  94],\n",
       "        [ 94,  59,  78],\n",
       "        [ 82,  97,  83]])"
      ]
     },
     "execution_count": 719,
     "metadata": {},
     "output_type": "execute_result"
    }
   ],
   "source": [
    "tensor = torch.randint(0, 101, (20, 3))\n",
    "\n",
    "sort_indexes = torch.sum(tensor, 1).sort(dim = 0)[1]\n",
    "tensor[sort_indexes]"
   ]
  },
  {
   "cell_type": "markdown",
   "metadata": {
    "id": "IkBRFTKa1RDO"
   },
   "source": [
    "1.4.5 Найти \"локальные максимумы\" в одномерном тензоре (т.е. значения, большие предыдущего и последующего) `torch.tensor([1, 3, 7, 1, 2, 6, 0, 1])` и вывести их индексы."
   ]
  },
  {
   "cell_type": "code",
   "execution_count": 790,
   "metadata": {},
   "outputs": [
    {
     "name": "stdout",
     "output_type": "stream",
     "text": [
      "tensor([5])\n",
      "tensor([2])\n"
     ]
    }
   ],
   "source": [
    "tensor = torch.tensor([1, 3, 7, 1, 2, 6, 0, 1])\n",
    "first_max = torch.maximum(tensor[:-1], tensor[1 :])\n",
    "second_max = torch.maximum(first_max[:-1], first_max[1 :])\n",
    "local_maxs = second_max.unique()\n",
    "\n",
    "for value in local_maxs:\n",
    "    print((tensor == value).nonzero(as_tuple=True)[0])"
   ]
  },
  {
   "cell_type": "markdown",
   "metadata": {
    "id": "VXD58rlc1RDP"
   },
   "source": [
    "1.4.6 Задан произвольный массив numpy (например массив из 100 случайных числе от 0 до 1). Необходимо найти в нем число наиболее близкое к заданному."
   ]
  },
  {
   "cell_type": "code",
   "execution_count": 798,
   "metadata": {},
   "outputs": [
    {
     "name": "stdout",
     "output_type": "stream",
     "text": [
      "[0.         0.01010101 0.02020202 0.03030303 0.04040404 0.05050505\n",
      " 0.06060606 0.07070707 0.08080808 0.09090909 0.1010101  0.11111111\n",
      " 0.12121212 0.13131313 0.14141414 0.15151515 0.16161616 0.17171717\n",
      " 0.18181818 0.19191919 0.2020202  0.21212121 0.22222222 0.23232323\n",
      " 0.24242424 0.25252525 0.26262626 0.27272727 0.28282828 0.29292929\n",
      " 0.3030303  0.31313131 0.32323232 0.33333333 0.34343434 0.35353535\n",
      " 0.36363636 0.37373737 0.38383838 0.39393939 0.4040404  0.41414141\n",
      " 0.42424242 0.43434343 0.44444444 0.45454545 0.46464646 0.47474747\n",
      " 0.48484848 0.49494949 0.50505051 0.51515152 0.52525253 0.53535354\n",
      " 0.54545455 0.55555556 0.56565657 0.57575758 0.58585859 0.5959596\n",
      " 0.60606061 0.61616162 0.62626263 0.63636364 0.64646465 0.65656566\n",
      " 0.66666667 0.67676768 0.68686869 0.6969697  0.70707071 0.71717172\n",
      " 0.72727273 0.73737374 0.74747475 0.75757576 0.76767677 0.77777778\n",
      " 0.78787879 0.7979798  0.80808081 0.81818182 0.82828283 0.83838384\n",
      " 0.84848485 0.85858586 0.86868687 0.87878788 0.88888889 0.8989899\n",
      " 0.90909091 0.91919192 0.92929293 0.93939394 0.94949495 0.95959596\n",
      " 0.96969697 0.97979798 0.98989899 1.        ]\n"
     ]
    },
    {
     "data": {
      "text/plain": [
       "0.4646464646464647"
      ]
     },
     "execution_count": 798,
     "metadata": {},
     "output_type": "execute_result"
    }
   ],
   "source": [
    "arr = np.linspace(0, 1, 100)\n",
    "print(arr)\n",
    "given_value = 0.456\n",
    "\n",
    "index = numpy.searchsorted(arr, given_value, side='left', sorter=None)\n",
    "arr[index]"
   ]
  },
  {
   "cell_type": "markdown",
   "metadata": {
    "id": "81F_B2ij1RDP"
   },
   "source": [
    "1.4.7 Решить матричное уравнение `A*X*B=-C` - найти матрицу X. Где `A = [[-1, 2, 4], [-3, 1, 2], [-3, 0, 1]]`, `B=[[3, -1], [2, 1]]`, `C=[[7, 21], [11, 8], [8, 4]]`."
   ]
  },
  {
   "cell_type": "code",
   "execution_count": 817,
   "metadata": {},
   "outputs": [
    {
     "ename": "RuntimeError",
     "evalue": "mat1 and mat2 shapes cannot be multiplied (3x3 and 2x2)",
     "output_type": "error",
     "traceback": [
      "\u001b[0;31m---------------------------------------------------------------------------\u001b[0m",
      "\u001b[0;31mRuntimeError\u001b[0m                              Traceback (most recent call last)",
      "Cell \u001b[0;32mIn[817], line 8\u001b[0m\n\u001b[1;32m      3\u001b[0m C \u001b[38;5;241m=\u001b[39m torch\u001b[38;5;241m.\u001b[39mtensor([[\u001b[38;5;241m7\u001b[39m, \u001b[38;5;241m21\u001b[39m], [\u001b[38;5;241m11\u001b[39m, \u001b[38;5;241m8\u001b[39m], [\u001b[38;5;241m8\u001b[39m, \u001b[38;5;241m4\u001b[39m]])\n\u001b[1;32m      6\u001b[0m \u001b[38;5;66;03m#X = -C / (A * B)\u001b[39;00m\n\u001b[0;32m----> 8\u001b[0m \u001b[43mtorch\u001b[49m\u001b[38;5;241;43m.\u001b[39;49m\u001b[43mmatmul\u001b[49m\u001b[43m(\u001b[49m\u001b[43mA\u001b[49m\u001b[43m,\u001b[49m\u001b[43m \u001b[49m\u001b[43mB\u001b[49m\u001b[43m)\u001b[49m\n",
      "\u001b[0;31mRuntimeError\u001b[0m: mat1 and mat2 shapes cannot be multiplied (3x3 and 2x2)"
     ]
    }
   ],
   "source": [
    "A = torch.tensor([[-1, 2, 4], [-3, 1, 2], [-3, 0, 1]])\n",
    "B = torch.tensor([[3, -1], [2, 1]])\n",
    "C = torch.tensor([[7, 21], [11, 8], [8, 4]])\n",
    "\n"
   ]
  },
  {
   "cell_type": "code",
   "execution_count": 304,
   "metadata": {},
   "outputs": [
    {
     "data": {
      "text/plain": [
       "tensor([[ 1.0000e+00,  5.9605e-08],\n",
       "        [-2.0000e+00,  1.0000e+00],\n",
       "        [ 3.0000e+00, -4.0000e+00]])"
      ]
     },
     "execution_count": 304,
     "metadata": {},
     "output_type": "execute_result"
    }
   ],
   "source": [
    "X"
   ]
  },
  {
   "cell_type": "code",
   "execution_count": 307,
   "metadata": {},
   "outputs": [
    {
     "data": {
      "text/plain": [
       "tensor([[ -7., -21.],\n",
       "        [-11.,  -8.],\n",
       "        [ -8.,  -4.]])"
      ]
     },
     "execution_count": 307,
     "metadata": {},
     "output_type": "execute_result"
    }
   ],
   "source": [
    "-C"
   ]
  },
  {
   "cell_type": "code",
   "execution_count": 305,
   "metadata": {},
   "outputs": [
    {
     "data": {
      "text/plain": [
       "tensor([[ -7.0000, -21.0000],\n",
       "        [-11.0000,  -8.0000],\n",
       "        [ -8.0000,  -4.0000]])"
      ]
     },
     "execution_count": 305,
     "metadata": {},
     "output_type": "execute_result"
    }
   ],
   "source": [
    "A @ X @ B"
   ]
  },
  {
   "cell_type": "markdown",
   "metadata": {
    "id": "1P7O19bj1RDP"
   },
   "source": [
    "1.4.8 Проверить, является ли система векторов a1 = (3; −3; 0; 7),\n",
    "a2 = (2; 2; 4; 7), a3 = (1; 2; 3; 4), a4 = (5; −4; 1; 3) линейно зависимой?"
   ]
  },
  {
   "cell_type": "code",
   "execution_count": 332,
   "metadata": {},
   "outputs": [
    {
     "data": {
      "text/plain": [
       "tensor(4.0457e-14, dtype=torch.float64)"
      ]
     },
     "execution_count": 332,
     "metadata": {},
     "output_type": "execute_result"
    }
   ],
   "source": []
  },
  {
   "cell_type": "markdown",
   "metadata": {
    "id": "Jg_bzMVS1RDQ"
   },
   "source": [
    "1.4.9 Сгенирировать тензор из 200 случайных целых чисел, нормально распрделенных cо стандартным отклонением $\\sigma = 10$ и матожиданием $\\mu = 0$. Построить тензор гистограммы с 20 бинами. "
   ]
  },
  {
   "cell_type": "code",
   "execution_count": 336,
   "metadata": {},
   "outputs": [
    {
     "data": {
      "text/plain": [
       "(tensor(9.3921), tensor(0.0670))"
      ]
     },
     "execution_count": 336,
     "metadata": {},
     "output_type": "execute_result"
    }
   ],
   "source": []
  },
  {
   "cell_type": "code",
   "execution_count": 338,
   "metadata": {},
   "outputs": [
    {
     "data": {
      "text/plain": [
       "torch.return_types.histogram(\n",
       "hist=tensor([ 1.,  0.,  0.,  2.,  4.,  1.,  7.,  9., 27., 24., 14., 26., 27., 19.,\n",
       "        16.,  9.,  7.,  5.,  0.,  2.]),\n",
       "bin_edges=tensor([-33.0306, -30.0873, -27.1440, -24.2007, -21.2574, -18.3141, -15.3708,\n",
       "        -12.4275,  -9.4842,  -6.5409,  -3.5976,  -0.6543,   2.2890,   5.2323,\n",
       "          8.1756,  11.1189,  14.0623,  17.0056,  19.9489,  22.8922,  25.8355]))"
      ]
     },
     "execution_count": 338,
     "metadata": {},
     "output_type": "execute_result"
    }
   ],
   "source": []
  }
 ],
 "metadata": {
  "colab": {
   "name": "01_tensor_v1_blank.ipynb",
   "provenance": [],
   "toc_visible": true
  },
  "kernelspec": {
   "display_name": "Python 3 (ipykernel)",
   "language": "python",
   "name": "python3"
  },
  "language_info": {
   "codemirror_mode": {
    "name": "ipython",
    "version": 3
   },
   "file_extension": ".py",
   "mimetype": "text/x-python",
   "name": "python",
   "nbconvert_exporter": "python",
   "pygments_lexer": "ipython3",
   "version": "3.10.9"
  }
 },
 "nbformat": 4,
 "nbformat_minor": 1
}
